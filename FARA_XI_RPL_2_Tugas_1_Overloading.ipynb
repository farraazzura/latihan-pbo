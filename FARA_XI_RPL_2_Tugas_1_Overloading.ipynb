{
  "nbformat": 4,
  "nbformat_minor": 0,
  "metadata": {
    "colab": {
      "provenance": [],
      "include_colab_link": true
    },
    "kernelspec": {
      "name": "python3",
      "display_name": "Python 3"
    },
    "language_info": {
      "name": "python"
    }
  },
  "cells": [
    {
      "cell_type": "markdown",
      "metadata": {
        "id": "view-in-github",
        "colab_type": "text"
      },
      "source": [
        "<a href=\"https://colab.research.google.com/github/farraazzura/latihan-pbo/blob/main/FARA_XI_RPL_2_Tugas_1_Overloading.ipynb\" target=\"_parent\"><img src=\"https://colab.research.google.com/assets/colab-badge.svg\" alt=\"Open In Colab\"/></a>"
      ]
    },
    {
      "cell_type": "code",
      "execution_count": 26,
      "metadata": {
        "id": "cytAUNWzM1-6"
      },
      "outputs": [],
      "source": [
        "#Buat Perkalian yang memiliki Sebuah fungsi dangan nama Hitung\n",
        "class Perkalian:\n",
        "  def hasil(self, a, b):\n",
        "    x = a * b\n",
        "    print(x)\n",
        "\n",
        "  def hasil(self, a, b, c):\n",
        "    x = a * b * c\n",
        "    print(x)\n",
        "\n",
        "#method hasil() dengan variasi parameter\n",
        "class Perkalian:\n",
        "    def hasil(self, *args):\n",
        "        jumlah = 1\n",
        "        for angka in args:\n",
        "            jumlah *= angka\n",
        "        print(jumlah)"
      ]
    },
    {
      "cell_type": "code",
      "source": [
        "#Buat main program\n",
        "tes = Perkalian()\n",
        "#Panggil fungsi Hitung untuk menghitung 2 parameter\n",
        "tes.hasil(1, 2)\n",
        "#Panggil fungsi Hitung untuk menghitung 3 parameter\n",
        "tes.hasil(1, 2, 3)\n",
        "#Panggil fungsi Hitung untuk menghitung 4 parameter\n",
        "tes.hasil(1, 2, 3, 4)"
      ],
      "metadata": {
        "id": "W9hN-kX7PDUI",
        "colab": {
          "base_uri": "https://localhost:8080/"
        },
        "outputId": "f0a03214-3439-4cb0-857a-808f6d895e4c"
      },
      "execution_count": 27,
      "outputs": [
        {
          "output_type": "stream",
          "name": "stdout",
          "text": [
            "2\n",
            "6\n",
            "24\n"
          ]
        }
      ]
    }
  ]
}