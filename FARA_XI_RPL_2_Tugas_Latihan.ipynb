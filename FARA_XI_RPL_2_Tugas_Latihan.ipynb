{
  "nbformat": 4,
  "nbformat_minor": 0,
  "metadata": {
    "colab": {
      "provenance": [],
      "include_colab_link": true
    },
    "kernelspec": {
      "name": "python3",
      "display_name": "Python 3"
    },
    "language_info": {
      "name": "python"
    }
  },
  "cells": [
    {
      "cell_type": "markdown",
      "metadata": {
        "id": "view-in-github",
        "colab_type": "text"
      },
      "source": [
        "<a href=\"https://colab.research.google.com/github/farraazzura/latihan-pbo/blob/main/FARA_XI_RPL_2_Tugas_Latihan.ipynb\" target=\"_parent\"><img src=\"https://colab.research.google.com/assets/colab-badge.svg\" alt=\"Open In Colab\"/></a>"
      ]
    },
    {
      "cell_type": "markdown",
      "source": [
        "Sebuah start-up GoPay merupakan perusahaan vintage yang menjadi alat pembayaran aplikasi marketplace dan lainnya. Anda seorang programmer yang ditugaskan untuk membuat aplikasi GoPay yang memiliki sebuah class bernama AkunGopay, yang memiliki atribut no_hp, nama dan saldo, dimana semua atribut bersifat private, demi keamanan.\n",
        "\n",
        "\n",
        "Pengguna bisa mendaftar akun GoPay dengan no_hp dan nama saja, namun juga bisa mendaftar dengan no_hp, nama dan saldo. Jika mendaftar dengan no_hp dan nama saja maka saldo otomatis bernilai 0.\n",
        "\n",
        "\n",
        "Class AkunGopay harus menyediakan fungsi yang dapat diakses oleh Marketplace untuk melakukan transaksi, yaitu :\n",
        "\n",
        "1.   topUp(), yang digunakan untuk menambahkan saldo\n",
        "2.   bayarTransaksi(), yang mengurangi saldo ketika melakukan transaksi\n",
        "3.   getSaldo(), untuk mengetahui jumlah saldo\n",
        "\n",
        "\n",
        "\n",
        "Teman Anda adalah seorang programer yang bekerja di sebuah start-up terkemuka Tokopedia yang bekerjasama dengan start-up keuangan GoPay. Anda ditugaskan membuat apikasi yang memiliki class AkunToped, dan memiliki atribut nama dan nomer_hp.\n",
        "\n",
        "Class AkunToped harus menyediakan fungsi yang untuk melakukan transaksi, yaitu:\n",
        "\n",
        "1. transaksi(), yang digunakan untuk mengurangi saldo Gopay dengan paramater nominal transaksi.\n",
        "2. getSaldo(), untuk mengetahui jumlah saldo Gopay.\n",
        "\n"
      ],
      "metadata": {
        "id": "NOQKwrfHB4pv"
      }
    },
    {
      "cell_type": "code",
      "execution_count": 5,
      "metadata": {
        "id": "peDTMz-5kxlh"
      },
      "outputs": [],
      "source": [
        "#Desain Class\n",
        "class AkunGopay:\n",
        "  def __init__(self, no_hp, nama, saldo=0):\n",
        "    self.__no_hp = no_hp\n",
        "    self.__nama = nama\n",
        "    self.__saldo = saldo\n",
        "\n",
        "  def topUp(self, total):\n",
        "      self.__saldo += total\n",
        "      print(\"Saldo Awal :\", self.__saldo)\n",
        "\n",
        "  def bayarTransaksi(self, total):\n",
        "    if total <= self.__saldo:\n",
        "      self.__saldo -= total\n",
        "      print(\"transaksi :\", total)\n",
        "      print(\"Saldo Saat Ini :\", self.__saldo)\n",
        "    else:\n",
        "      print(\"saldo tidak mencukupi untuk meelakukan transaksi\")\n",
        "\n",
        "  def getSaldo(self):\n",
        "    return self.__saldo"
      ]
    },
    {
      "cell_type": "code",
      "source": [
        "class AkunToped:\n",
        "  def __init__(self, nama, no_hp):\n",
        "    self.nama = nama\n",
        "    self.no_hp = no_hp\n",
        "\n",
        "  def transaksi(self, akun_gopay, nominal_transaksi):\n",
        "    if nominal_transaksi > 0 :\n",
        "      akun_gopay.bayarTransaksi(nominal_transaksi)\n",
        "    else:\n",
        "      print(\"Jumlah Transaksi Harus Lebih Dari 0\")\n",
        "\n",
        "  def getSaldo(self, nominal):\n",
        "    return nominal.getSaldo()"
      ],
      "metadata": {
        "id": "dlUEMTlzPxNz"
      },
      "execution_count": 16,
      "outputs": []
    },
    {
      "cell_type": "code",
      "source": [
        "#Main Program AkunGopay\n",
        "print(\"Akun GoPay\")\n",
        "\n",
        "akunf = AkunGopay(\"082197580048\", \"Fara Azzura Dasgupta\", 100000000)\n",
        "print(\"Saldo :\", akunf.getSaldo())\n",
        "\n",
        "akunA = AkunGopay(\"092737468384\", \"Kiya Kusuma\")\n",
        "print(\"Saldo :\", akunA.getSaldo())\n",
        "\n",
        "akunf.topUp(12000000)\n",
        "\n",
        "akunf.bayarTransaksi(34556000)\n",
        "\n",
        "akunf.getSaldo()\n",
        "\n",
        "#main program ToPed\n",
        "print(\"\\nAkun ToPed\")\n",
        "\n",
        "akuntopedf = AkunToped(\"Fara Azzura Dasgupta\", \"082197580048\")\n",
        "print(\"\\nSaldo AkunGopay di ToPed :\", akuntopedf.getSaldo(akunf))\n",
        "\n",
        "akuntopeda = AkunToped(\"Kiyaa\", \"0389027392793\")\n",
        "print(\"Saldo AkunGopay di ToPed :\", akuntopeda.getSaldo(akunA))\n",
        "\n",
        "akuntopedf.transaksi(akunf, 98000)\n",
        "\n",
        "akuntopedf.getSaldo(akunf)"
      ],
      "metadata": {
        "id": "eitzekkYkycQ",
        "colab": {
          "base_uri": "https://localhost:8080/"
        },
        "outputId": "8f848a3c-d97a-4dbb-c6a2-7a663901d239"
      },
      "execution_count": 25,
      "outputs": [
        {
          "output_type": "stream",
          "name": "stdout",
          "text": [
            "Akun GoPay\n",
            "Saldo : 100000000\n",
            "Saldo : 0\n",
            "Saldo Awal : 112000000\n",
            "transaksi : 34556000\n",
            "Saldo Saat Ini : 77444000\n",
            "\n",
            "Akun ToPed\n",
            "\n",
            "Saldo AkunGopay di ToPed : 77444000\n",
            "Saldo AkunGopay di ToPed : 0\n",
            "transaksi : 98000\n",
            "Saldo Saat Ini : 77346000\n"
          ]
        },
        {
          "output_type": "execute_result",
          "data": {
            "text/plain": [
              "77346000"
            ]
          },
          "metadata": {},
          "execution_count": 25
        }
      ]
    }
  ]
}