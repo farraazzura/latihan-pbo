{
  "nbformat": 4,
  "nbformat_minor": 0,
  "metadata": {
    "colab": {
      "provenance": [],
      "include_colab_link": true
    },
    "kernelspec": {
      "name": "python3",
      "display_name": "Python 3"
    },
    "language_info": {
      "name": "python"
    }
  },
  "cells": [
    {
      "cell_type": "markdown",
      "metadata": {
        "id": "view-in-github",
        "colab_type": "text"
      },
      "source": [
        "<a href=\"https://colab.research.google.com/github/farraazzura/latihan-pbo/blob/main/FARA_XI_RPL_2_TugasInheritanceSiswa2.ipynb\" target=\"_parent\"><img src=\"https://colab.research.google.com/assets/colab-badge.svg\" alt=\"Open In Colab\"/></a>"
      ]
    },
    {
      "cell_type": "markdown",
      "source": [
        "Buatlah tiga kelas: User, Siswa, dan Guru. Class Siswa dan Guru mewarisi atribute dan fungsi dari class User. Keduanya menambahkan atribut dan fungsi tambahan sesuai dengan peran masing-masing.\n",
        "\n",
        "Output dari program ini akan menampilkan informasi seorang siswa dan seorang guru dengan menggunakan fungsi tampil_info() yang diwarisi dari class User. Untuk info user yang ditampilkan silakan ditentukan sendiri minimal ada nama dan umur.\n",
        "\n",
        "Untuk informasi khusus dari siswa dan guru silakan tentukan sendiri, minimal satu atribute tambahan yang membedakan antara siswa dan guru."
      ],
      "metadata": {
        "id": "oWYx5WDsIouf"
      }
    },
    {
      "cell_type": "code",
      "execution_count": 4,
      "metadata": {
        "id": "VQWWW4rpH9ve"
      },
      "outputs": [],
      "source": [
        "class User :\n",
        " def __init__ (self, nama, umur, asal):\n",
        "\n",
        "    self.nama = nama\n",
        "    self.umur = umur\n",
        "    self.asal = asal\n",
        "\n",
        "def tampil_info (self):\n",
        "    pass"
      ]
    },
    {
      "cell_type": "code",
      "source": [
        "class Siswa (User):\n",
        " def __init__ (self,  nama, umur, asal, kelas):\n",
        "\n",
        "    super().__init__(nama, umur, asal)\n",
        "\n",
        "    self.kelas = kelas\n",
        "\n",
        " def tampil_info (self):\n",
        "    return self.kelas"
      ],
      "metadata": {
        "id": "i_iBjMciJJc5"
      },
      "execution_count": 5,
      "outputs": []
    },
    {
      "cell_type": "code",
      "source": [
        "class Guru (User):\n",
        "\n",
        " def __init__ (self,  nama, umur, asal, mapel):\n",
        "\n",
        "    super().__init__(nama, umur, asal)\n",
        "\n",
        "    self.mapel = mapel\n",
        "\n",
        "def tampil_info (self):\n",
        "   return self.mapel"
      ],
      "metadata": {
        "id": "lrnlKm6sJMjp"
      },
      "execution_count": 6,
      "outputs": []
    },
    {
      "cell_type": "code",
      "source": [
        "#Program utama untuk menampilkan info\n",
        "siswa = Siswa(\"Kiya\", \"17\", \"Jakarta\", \"TBSM\")\n",
        "guru = Guru(\"Zura\", \"27\", \"Ponorogo\", \"Bahasa Inggris\")\n",
        "\n",
        "#Menampilkan info\n",
        "print(f\"Nama: {siswa.nama} umur : {siswa.umur} asal : {siswa.asal} kelas : {siswa.kelas}\")\n",
        "print(f\"Nama : {guru.nama} umur : {guru.umur} asal : {guru.asal} mengajar mapel : {guru.mapel}\")"
      ],
      "metadata": {
        "id": "VDGIma_2JOVx",
        "colab": {
          "base_uri": "https://localhost:8080/"
        },
        "outputId": "598bdbe9-e2ff-4b56-a7be-d0eb427ddae9"
      },
      "execution_count": 8,
      "outputs": [
        {
          "output_type": "stream",
          "name": "stdout",
          "text": [
            "Nama: Kiya umur : 17 asal : Jakarta kelas : TBSM\n",
            "Nama : Zura umur : 27 asal : Ponorogo mengajar mapel : Bahasa Inggris\n"
          ]
        }
      ]
    }
  ]
}