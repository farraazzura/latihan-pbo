{
  "nbformat": 4,
  "nbformat_minor": 0,
  "metadata": {
    "colab": {
      "provenance": [],
      "include_colab_link": true
    },
    "kernelspec": {
      "name": "python3",
      "display_name": "Python 3"
    },
    "language_info": {
      "name": "python"
    }
  },
  "cells": [
    {
      "cell_type": "markdown",
      "metadata": {
        "id": "view-in-github",
        "colab_type": "text"
      },
      "source": [
        "<a href=\"https://colab.research.google.com/github/farraazzura/latihan-pbo/blob/main/FARA_RPL_2_TugasEnkapsulasi2.ipynb\" target=\"_parent\"><img src=\"https://colab.research.google.com/assets/colab-badge.svg\" alt=\"Open In Colab\"/></a>"
      ]
    },
    {
      "cell_type": "markdown",
      "source": [
        "Buatlah kelas RekeningBank dengan atribut berikut:\n",
        "\n",
        "*   saldo (private)\n",
        "*   nama_pemilik (private)\n",
        "\n",
        "Berikan metode berikut:\n",
        "\n",
        "*   __init__: Menginisialisasi saldo dan nama_pemilik.\n",
        "*   set_saldo: Mengubah nilai saldo.\n",
        "*   get_saldo: Mengembalikan nilai saldo.\n",
        "*   set_nama_pemilik: Mengubah nama pemilik.\n",
        "*   get_nama_pemilik: Mengembalikan nama pemilik.\n",
        "\n",
        "\n",
        "\n",
        "\n",
        "\n",
        "\n",
        "\n",
        "\n"
      ],
      "metadata": {
        "id": "PktiI90eS6Ee"
      }
    },
    {
      "cell_type": "code",
      "source": [
        "#Program utama untuk mendemonstrasikan class RekeningBank\n",
        "class RekeningBank:\n",
        "  def __init__(self, saldo, nama_pemilik):\n",
        "    self.__saldo = saldo\n",
        "    self.__nama_pemilik = nama_pemilik\n",
        "\n",
        "  def get_saldo(self):\n",
        "    return self.__saldo\n",
        "\n",
        "  def set_saldo(self, saldo):\n",
        "    self.__saldo = saldo\n",
        "\n",
        "  def get_nama_pemilik(self):\n",
        "    return self.__nama_pemilik\n",
        "\n",
        "  def set_nama_pemilik(self, nama_pemilik):\n",
        "    self.__nama_pemilik = nama_pemilik"
      ],
      "metadata": {
        "id": "aOwy6rfdSga2"
      },
      "execution_count": 3,
      "outputs": []
    },
    {
      "cell_type": "code",
      "source": [
        "#yang menunjukkan penggunaan semua fungsi yang ada\n",
        "# Membuat objek RekeningBank untuk menunjukan ada berapa saldo dan nama pemiliknya\n",
        "nm = RekeningBank(13000000, 'kiya')\n",
        "\n",
        "# Mengakses/menampilkan nama dan gaji menggunakan fungsi\n",
        "print('Mempunyai saldo', nm.get_saldo(), 'dengan Pemilik bernama', nm.get_nama_pemilik())\n",
        "\n",
        "# Mengubah nama menjadi nama anda masing-masing dan gaji bebas menggunakan fungsi\n",
        "nm.set_nama_pemilik('Farra')\n",
        "nm.set_saldo(1000000000)\n",
        "\n",
        "# Mengakses/menampilkan nama dan gaji setelah diubah\n",
        "print('Mempunyai saldo', nm.get_saldo(), 'dengan Pemilik bernama', nm.get_nama_pemilik())"
      ],
      "metadata": {
        "id": "uBBiq2uEm-kE",
        "colab": {
          "base_uri": "https://localhost:8080/"
        },
        "outputId": "c6abb1c4-c3b3-42b5-a9ed-9cfaffc86b08"
      },
      "execution_count": 4,
      "outputs": [
        {
          "output_type": "stream",
          "name": "stdout",
          "text": [
            "Mempunyai saldo 13000000 dengan Pemilik bernama kiya\n",
            "Mempunyai saldo 1000000000 dengan Pemilik bernama Farra\n"
          ]
        }
      ]
    },
    {
      "cell_type": "code",
      "source": [
        "#challenge menambahkan fungsi membayar dan mengambil saldo\n"
      ],
      "metadata": {
        "id": "NYtbKid7oKP0"
      },
      "execution_count": null,
      "outputs": []
    }
  ]
}