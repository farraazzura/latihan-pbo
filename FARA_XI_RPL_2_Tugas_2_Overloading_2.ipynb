{
  "nbformat": 4,
  "nbformat_minor": 0,
  "metadata": {
    "colab": {
      "provenance": [],
      "include_colab_link": true
    },
    "kernelspec": {
      "name": "python3",
      "display_name": "Python 3"
    },
    "language_info": {
      "name": "python"
    }
  },
  "cells": [
    {
      "cell_type": "markdown",
      "metadata": {
        "id": "view-in-github",
        "colab_type": "text"
      },
      "source": [
        "<a href=\"https://colab.research.google.com/github/farraazzura/latihan-pbo/blob/main/FARA_XI_RPL_2_Tugas_2_Overloading_2.ipynb\" target=\"_parent\"><img src=\"https://colab.research.google.com/assets/colab-badge.svg\" alt=\"Open In Colab\"/></a>"
      ]
    },
    {
      "cell_type": "code",
      "execution_count": 27,
      "metadata": {
        "id": "5zCytCeM1uD4"
      },
      "outputs": [],
      "source": [
        "#class Nama\n",
        "class Nama:\n",
        "#Buat fungsi yang digunakan untuk mengabungkan nama dengan ketentuan nama depan, nama tengah, nama akhir, dan seterusnya dianggap 1 (satu) parameter\n",
        "  def lihat(self, nama_depan, nama_tengah, nama_akhir, dan_seterusnya):\n",
        "    t = nama_depan  + nama_tengah + nama_akhir + dan_seterusnya\n",
        "    print(t)\n",
        "\n",
        "\n",
        "class Penjumlahan:\n",
        "    # method hasil() dengan variasi parameter\n",
        "    def lihat(self, *args):\n",
        "        if (len(args) <= 4):\n",
        "            sum = 0\n",
        "            for num in args:\n",
        "                sum += num\n",
        "            print(sum)\n",
        "        else:\n",
        "            print(\"Maksimum 4 argumen\")"
      ]
    },
    {
      "cell_type": "code",
      "source": [
        "#Buat main program\n",
        "tampil = Nama()\n",
        "#Panggil fungsi untuk membuat nama lengkap 4 nama teman kalian\n",
        "tampil.lihat(\"Agatha \", \"amarilis \", \"rahmah \", \"Putri\")"
      ],
      "metadata": {
        "id": "liQBcJWZ12MN",
        "colab": {
          "base_uri": "https://localhost:8080/"
        },
        "outputId": "be18313c-ff10-4383-f175-779ae9f5b238"
      },
      "execution_count": 29,
      "outputs": [
        {
          "output_type": "stream",
          "name": "stdout",
          "text": [
            "Agatha amarilis rahmah Putri\n"
          ]
        }
      ]
    },
    {
      "cell_type": "code",
      "source": [
        "# Tulisakan kesimpulan dari materi Overloading menurut pemahaman anda!\n",
        "\n",
        "# Yang saya pahamidari materi ini adalah : overloading mirip dengan overriding yaitu sama\" penimpaan hanya saja ada bedanya yaitu kalo overloading mempunyai 2 parameter berdeda."
      ],
      "metadata": {
        "id": "xwFmppIG3JGE"
      },
      "execution_count": null,
      "outputs": []
    }
  ]
}