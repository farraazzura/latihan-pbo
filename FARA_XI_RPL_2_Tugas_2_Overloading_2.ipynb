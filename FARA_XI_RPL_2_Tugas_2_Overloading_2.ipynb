{
  "nbformat": 4,
  "nbformat_minor": 0,
  "metadata": {
    "colab": {
      "provenance": [],
      "include_colab_link": true
    },
    "kernelspec": {
      "name": "python3",
      "display_name": "Python 3"
    },
    "language_info": {
      "name": "python"
    }
  },
  "cells": [
    {
      "cell_type": "markdown",
      "metadata": {
        "id": "view-in-github",
        "colab_type": "text"
      },
      "source": [
        "<a href=\"https://colab.research.google.com/github/farraazzura/latihan-pbo/blob/main/FARA_XI_RPL_2_Tugas_2_Overloading_2.ipynb\" target=\"_parent\"><img src=\"https://colab.research.google.com/assets/colab-badge.svg\" alt=\"Open In Colab\"/></a>"
      ]
    },
    {
      "cell_type": "code",
      "execution_count": 34,
      "metadata": {
        "id": "5zCytCeM1uD4"
      },
      "outputs": [],
      "source": [
        "#class Nama\n",
        "class Nama:\n",
        "#Buat fungsi yang digunakan untuk mengabungkan nama dengan ketentuan nama depan, nama tengah, nama akhir, dan seterusnya dianggap 1 (satu) parameter\n",
        "  def lihat(self, nama_depan  = \"\", nama_tengah = \"\", nama_akhir = \"\", dan_seterusnya =\"\"):\n",
        "    t = nama_depan  + nama_tengah + nama_akhir + dan_seterusnya\n",
        "    print(t)\n",
        "\n",
        "\n",
        "class Penjumlahan:\n",
        "    # method hasil() dengan variasi parameter\n",
        "    def lihat(self, *args):\n",
        "        if (len(args) <= 4):\n",
        "            sum = 0\n",
        "            for num in args:\n",
        "                sum += num\n",
        "            print(sum)\n",
        "        else:\n",
        "            print(\"Maksimum 4 argumen\")"
      ]
    },
    {
      "cell_type": "code",
      "source": [
        "#Buat main program\n",
        "tampil = Nama()\n",
        "#Panggil fungsi untuk membuat nama lengkap 4 nama teman kalian\n",
        "tampil.lihat(\"Diaz \", \"Yanita\")\n",
        "tampil.lihat(\"Zahrotul \", \"Hikmah\")\n",
        "tampil.lihat(\"Keysa \", \"Ghea\")\n",
        "tampil.lihat(\"Arya \", \"Kusuma\")"
      ],
      "metadata": {
        "id": "liQBcJWZ12MN",
        "colab": {
          "base_uri": "https://localhost:8080/"
        },
        "outputId": "fb843e8d-f42d-4913-8d3c-c902f70425ec"
      },
      "execution_count": 38,
      "outputs": [
        {
          "output_type": "stream",
          "name": "stdout",
          "text": [
            "Diaz Yanita\n",
            "Zahrotul Hikmah\n",
            "Keysa Ghea\n",
            "Arya Kusuma\n"
          ]
        }
      ]
    },
    {
      "cell_type": "code",
      "source": [
        "# Tulisakan kesimpulan dari materi Overloading menurut pemahaman anda!\n",
        "\n",
        "# Yang saya pahamidari materi ini adalah : overloading mirip dengan overriding yaitu sama\" penimpaan hanya saja ada bedanya yaitu kalo overloading mempunyai 2 parameter berdeda."
      ],
      "metadata": {
        "id": "xwFmppIG3JGE"
      },
      "execution_count": null,
      "outputs": []
    }
  ]
}